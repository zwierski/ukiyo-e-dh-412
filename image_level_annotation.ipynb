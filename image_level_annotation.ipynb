{
 "cells": [
  {
   "cell_type": "code",
   "execution_count": 1,
   "metadata": {},
   "outputs": [],
   "source": [
    "import pandas as pd"
   ]
  },
  {
   "cell_type": "code",
   "execution_count": 19,
   "metadata": {},
   "outputs": [
    {
     "name": "stderr",
     "output_type": "stream",
     "text": [
      "C:\\Users\\marga\\AppData\\Local\\Temp\\ipykernel_18672\\1436364997.py:2: DtypeWarning: Columns (4,5,6,7,8,9,10,11,12,13,14,15,16,17,18,19,20,21,22,23,24,25,26,27,28,29,30,31,32,33,34,35,36,37,38,39,40,41,42,43,44,45,46,47,48,49,50,51,52,53,54,55,56,57,58,59,60,61,62,63,64,65,66,67,68,69,70,71,72,73,74,75,76,77,78,79,80,81,82,83,84,85,86,87,88,89,90,91,92,93,94,95,96,97,98,99,100,101,102,103,104,105,106,107,108,109,110,111,112,113,114,115,116,117,118,119,120,121,122,123,124,125,126,127,128,129,130,131,132,133,134,135,136,137,138,139,140,141,142,143,144,145,146,147,148,149,150,151,152,153,154,155,156,157,158,159,160,161,162,163,164,165,166,167,168,169,170,171,172,173,174,175,176,177,178,179,180,181,182,183,184,185,186,187,188,189,190,191) have mixed types. Specify dtype option on import or set low_memory=False.\n",
      "  nouns = pd.read_csv('./text_processing/labels.csv')\n"
     ]
    }
   ],
   "source": [
    "prints = pd.read_csv('./ukiyo-e_crawler/meta_data/ukiyo-e_artworks_details.csv').reset_index()\n",
    "nouns = pd.read_csv('./text_processing/labels.csv')\n",
    "nouns = nouns[['Unnamed: 0', 'LABELS']].rename(columns={'Unnamed: 0': 'index'})"
   ]
  },
  {
   "cell_type": "code",
   "execution_count": 20,
   "metadata": {},
   "outputs": [
    {
     "name": "stdout",
     "output_type": "stream",
     "text": [
      "177985\n"
     ]
    },
    {
     "data": {
      "text/html": [
       "<div>\n",
       "<style scoped>\n",
       "    .dataframe tbody tr th:only-of-type {\n",
       "        vertical-align: middle;\n",
       "    }\n",
       "\n",
       "    .dataframe tbody tr th {\n",
       "        vertical-align: top;\n",
       "    }\n",
       "\n",
       "    .dataframe thead th {\n",
       "        text-align: right;\n",
       "    }\n",
       "</style>\n",
       "<table border=\"1\" class=\"dataframe\">\n",
       "  <thead>\n",
       "    <tr style=\"text-align: right;\">\n",
       "      <th></th>\n",
       "      <th>index</th>\n",
       "      <th>Image URL</th>\n",
       "      <th>Artist</th>\n",
       "      <th>Title</th>\n",
       "      <th>Date</th>\n",
       "      <th>Details</th>\n",
       "      <th>Source</th>\n",
       "      <th>Description</th>\n",
       "      <th>Similar Prints</th>\n",
       "    </tr>\n",
       "  </thead>\n",
       "  <tbody>\n",
       "    <tr>\n",
       "      <th>0</th>\n",
       "      <td>0</td>\n",
       "      <td>https://data.ukiyo-e.org/bm/scaled/AN00418884_...</td>\n",
       "      <td>Okumura Masanobu</td>\n",
       "      <td>NaN</td>\n",
       "      <td>1711</td>\n",
       "      <td>https://www.britishmuseum.org/collection/objec...</td>\n",
       "      <td>http://www.britishmuseum.org/research/search_t...</td>\n",
       "      <td>Print. Sixth of series of twelve (first two mi...</td>\n",
       "      <td>[]</td>\n",
       "    </tr>\n",
       "  </tbody>\n",
       "</table>\n",
       "</div>"
      ],
      "text/plain": [
       "   index                                          Image URL            Artist  \\\n",
       "0      0  https://data.ukiyo-e.org/bm/scaled/AN00418884_...  Okumura Masanobu   \n",
       "\n",
       "  Title  Date                                            Details  \\\n",
       "0   NaN  1711  https://www.britishmuseum.org/collection/objec...   \n",
       "\n",
       "                                              Source  \\\n",
       "0  http://www.britishmuseum.org/research/search_t...   \n",
       "\n",
       "                                         Description Similar Prints  \n",
       "0  Print. Sixth of series of twelve (first two mi...             []  "
      ]
     },
     "execution_count": 20,
     "metadata": {},
     "output_type": "execute_result"
    }
   ],
   "source": [
    "print(len(prints))\n",
    "prints.head(1)"
   ]
  },
  {
   "cell_type": "code",
   "execution_count": 21,
   "metadata": {},
   "outputs": [
    {
     "name": "stdout",
     "output_type": "stream",
     "text": [
      "177939\n"
     ]
    },
    {
     "data": {
      "text/html": [
       "<div>\n",
       "<style scoped>\n",
       "    .dataframe tbody tr th:only-of-type {\n",
       "        vertical-align: middle;\n",
       "    }\n",
       "\n",
       "    .dataframe tbody tr th {\n",
       "        vertical-align: top;\n",
       "    }\n",
       "\n",
       "    .dataframe thead th {\n",
       "        text-align: right;\n",
       "    }\n",
       "</style>\n",
       "<table border=\"1\" class=\"dataframe\">\n",
       "  <thead>\n",
       "    <tr style=\"text-align: right;\">\n",
       "      <th></th>\n",
       "      <th>index</th>\n",
       "      <th>LABELS</th>\n",
       "    </tr>\n",
       "  </thead>\n",
       "  <tbody>\n",
       "    <tr>\n",
       "      <th>0</th>\n",
       "      <td>0</td>\n",
       "      <td>['print', 'sixth', 'series', 'twelve', 'first'...</td>\n",
       "    </tr>\n",
       "  </tbody>\n",
       "</table>\n",
       "</div>"
      ],
      "text/plain": [
       "   index                                             LABELS\n",
       "0      0  ['print', 'sixth', 'series', 'twelve', 'first'..."
      ]
     },
     "execution_count": 21,
     "metadata": {},
     "output_type": "execute_result"
    }
   ],
   "source": [
    "print(len(nouns))\n",
    "nouns.head(1) # the lengths do not match..."
   ]
  },
  {
   "cell_type": "code",
   "execution_count": 22,
   "metadata": {},
   "outputs": [
    {
     "data": {
      "text/html": [
       "<div>\n",
       "<style scoped>\n",
       "    .dataframe tbody tr th:only-of-type {\n",
       "        vertical-align: middle;\n",
       "    }\n",
       "\n",
       "    .dataframe tbody tr th {\n",
       "        vertical-align: top;\n",
       "    }\n",
       "\n",
       "    .dataframe thead th {\n",
       "        text-align: right;\n",
       "    }\n",
       "</style>\n",
       "<table border=\"1\" class=\"dataframe\">\n",
       "  <thead>\n",
       "    <tr style=\"text-align: right;\">\n",
       "      <th></th>\n",
       "      <th>index</th>\n",
       "      <th>Image URL</th>\n",
       "      <th>Artist</th>\n",
       "      <th>Title</th>\n",
       "      <th>Date</th>\n",
       "      <th>Details</th>\n",
       "      <th>Source</th>\n",
       "      <th>Description</th>\n",
       "      <th>Similar Prints</th>\n",
       "      <th>LABELS</th>\n",
       "    </tr>\n",
       "  </thead>\n",
       "  <tbody>\n",
       "    <tr>\n",
       "      <th>0</th>\n",
       "      <td>0</td>\n",
       "      <td>https://data.ukiyo-e.org/bm/scaled/AN00418884_...</td>\n",
       "      <td>Okumura Masanobu</td>\n",
       "      <td>NaN</td>\n",
       "      <td>1711</td>\n",
       "      <td>https://www.britishmuseum.org/collection/objec...</td>\n",
       "      <td>http://www.britishmuseum.org/research/search_t...</td>\n",
       "      <td>Print. Sixth of series of twelve (first two mi...</td>\n",
       "      <td>[]</td>\n",
       "      <td>['print', 'sixth', 'series', 'twelve', 'first'...</td>\n",
       "    </tr>\n",
       "    <tr>\n",
       "      <th>1</th>\n",
       "      <td>1</td>\n",
       "      <td>https://data.ukiyo-e.org/mfa/scaled/sc220382.jpg</td>\n",
       "      <td>Okumura Masanobu</td>\n",
       "      <td>Actor Sanogawa Ichimatsu as a Falconer</td>\n",
       "      <td>1740</td>\n",
       "      <td>https://collections.mfa.org/objects/224230</td>\n",
       "      <td>http://www.mfa.org/search/collections</td>\n",
       "      <td>NaN</td>\n",
       "      <td>['https://ukiyo-e.org/image/bm/AN00611916_001_l']</td>\n",
       "      <td>['actor', 'falconer']</td>\n",
       "    </tr>\n",
       "  </tbody>\n",
       "</table>\n",
       "</div>"
      ],
      "text/plain": [
       "   index                                          Image URL            Artist  \\\n",
       "0      0  https://data.ukiyo-e.org/bm/scaled/AN00418884_...  Okumura Masanobu   \n",
       "1      1   https://data.ukiyo-e.org/mfa/scaled/sc220382.jpg  Okumura Masanobu   \n",
       "\n",
       "                                    Title  Date  \\\n",
       "0                                     NaN  1711   \n",
       "1  Actor Sanogawa Ichimatsu as a Falconer  1740   \n",
       "\n",
       "                                             Details  \\\n",
       "0  https://www.britishmuseum.org/collection/objec...   \n",
       "1         https://collections.mfa.org/objects/224230   \n",
       "\n",
       "                                              Source  \\\n",
       "0  http://www.britishmuseum.org/research/search_t...   \n",
       "1              http://www.mfa.org/search/collections   \n",
       "\n",
       "                                         Description  \\\n",
       "0  Print. Sixth of series of twelve (first two mi...   \n",
       "1                                                NaN   \n",
       "\n",
       "                                      Similar Prints  \\\n",
       "0                                                 []   \n",
       "1  ['https://ukiyo-e.org/image/bm/AN00611916_001_l']   \n",
       "\n",
       "                                              LABELS  \n",
       "0  ['print', 'sixth', 'series', 'twelve', 'first'...  \n",
       "1                              ['actor', 'falconer']  "
      ]
     },
     "execution_count": 22,
     "metadata": {},
     "output_type": "execute_result"
    }
   ],
   "source": [
    "prints_with_nouns = prints.merge(nouns, on='index') # this is problematic: if i merge on linear index, some works won't be associated with the correct description... \n",
    "# i would need something else in labels.csv to merge on, such as the title\n",
    "prints_with_nouns.head(2)"
   ]
  }
 ],
 "metadata": {
  "kernelspec": {
   "display_name": "ada",
   "language": "python",
   "name": "python3"
  },
  "language_info": {
   "codemirror_mode": {
    "name": "ipython",
    "version": 3
   },
   "file_extension": ".py",
   "mimetype": "text/x-python",
   "name": "python",
   "nbconvert_exporter": "python",
   "pygments_lexer": "ipython3",
   "version": "3.9.13"
  },
  "orig_nbformat": 4
 },
 "nbformat": 4,
 "nbformat_minor": 2
}
