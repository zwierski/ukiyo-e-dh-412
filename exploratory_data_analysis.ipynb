{
 "cells": [
  {
   "cell_type": "code",
   "execution_count": 1,
   "metadata": {},
   "outputs": [],
   "source": [
    "import pandas as pd\n",
    "import numpy as np\n",
    "import matplotlib.pyplot as plt\n",
    "import seaborn as sns"
   ]
  },
  {
   "cell_type": "code",
   "execution_count": 2,
   "metadata": {},
   "outputs": [
    {
     "data": {
      "text/plain": [
       "(177985, 8)"
      ]
     },
     "execution_count": 2,
     "metadata": {},
     "output_type": "execute_result"
    }
   ],
   "source": [
    "data = pd.read_csv('./ukiyo-e_crawler/data/ukiyo-e_artworks_details.csv')\n",
    "data.shape"
   ]
  },
  {
   "cell_type": "code",
   "execution_count": 3,
   "metadata": {},
   "outputs": [
    {
     "name": "stdout",
     "output_type": "stream",
     "text": [
      "Index(['Image URL', 'Artist', 'Title', 'Date', 'Details', 'Source',\n",
      "       'Description', 'Similar Prints'],\n",
      "      dtype='object')\n"
     ]
    }
   ],
   "source": [
    "print(data.columns)"
   ]
  },
  {
   "cell_type": "code",
   "execution_count": 8,
   "metadata": {},
   "outputs": [
    {
     "data": {
      "text/plain": [
       "82648"
      ]
     },
     "execution_count": 8,
     "metadata": {},
     "output_type": "execute_result"
    }
   ],
   "source": [
    "# get the number of non-null values in description column\n",
    "data['Description'].notnull().sum()"
   ]
  },
  {
   "cell_type": "code",
   "execution_count": 5,
   "metadata": {},
   "outputs": [
    {
     "data": {
      "text/plain": [
       "82648"
      ]
     },
     "execution_count": 5,
     "metadata": {},
     "output_type": "execute_result"
    }
   ],
   "source": [
    "# find entries with a 'clock' in the description\n",
    "data['Description'].str.contains('').sum()\n",
    "# "
   ]
  },
  {
   "cell_type": "code",
   "execution_count": 10,
   "metadata": {},
   "outputs": [
    {
     "data": {
      "text/html": [
       "<div>\n",
       "<style scoped>\n",
       "    .dataframe tbody tr th:only-of-type {\n",
       "        vertical-align: middle;\n",
       "    }\n",
       "\n",
       "    .dataframe tbody tr th {\n",
       "        vertical-align: top;\n",
       "    }\n",
       "\n",
       "    .dataframe thead th {\n",
       "        text-align: right;\n",
       "    }\n",
       "</style>\n",
       "<table border=\"1\" class=\"dataframe\">\n",
       "  <thead>\n",
       "    <tr style=\"text-align: right;\">\n",
       "      <th></th>\n",
       "      <th>Image URL</th>\n",
       "      <th>Artist</th>\n",
       "      <th>Title</th>\n",
       "      <th>Date</th>\n",
       "      <th>Details</th>\n",
       "      <th>Source</th>\n",
       "      <th>Description</th>\n",
       "      <th>Similar Prints</th>\n",
       "    </tr>\n",
       "  </thead>\n",
       "  <tbody>\n",
       "    <tr>\n",
       "      <th>0</th>\n",
       "      <td>https://data.ukiyo-e.org/bm/scaled/AN00418884_...</td>\n",
       "      <td>Okumura Masanobu</td>\n",
       "      <td>NaN</td>\n",
       "      <td>1711</td>\n",
       "      <td>https://www.britishmuseum.org/collection/objec...</td>\n",
       "      <td>http://www.britishmuseum.org/research/search_t...</td>\n",
       "      <td>Print. Sixth of series of twelve (first two mi...</td>\n",
       "      <td>[]</td>\n",
       "    </tr>\n",
       "    <tr>\n",
       "      <th>2</th>\n",
       "      <td>https://data.ukiyo-e.org/loc/scaled/02127v.jpg</td>\n",
       "      <td>Okumura Masanobu</td>\n",
       "      <td>Courtesan likened to the Chinese sage Zhang Gu...</td>\n",
       "      <td>[1715, printed later]</td>\n",
       "      <td>http://www.loc.gov/pictures/collection/jpd/ite...</td>\n",
       "      <td>http://www.loc.gov/pictures/search/?sp=2&amp;co=jp...</td>\n",
       "      <td>Print shows a courtesan portraying the Chinese...</td>\n",
       "      <td>[]</td>\n",
       "    </tr>\n",
       "  </tbody>\n",
       "</table>\n",
       "</div>"
      ],
      "text/plain": [
       "                                           Image URL            Artist  \\\n",
       "0  https://data.ukiyo-e.org/bm/scaled/AN00418884_...  Okumura Masanobu   \n",
       "2     https://data.ukiyo-e.org/loc/scaled/02127v.jpg  Okumura Masanobu   \n",
       "\n",
       "                                               Title                   Date  \\\n",
       "0                                                NaN                   1711   \n",
       "2  Courtesan likened to the Chinese sage Zhang Gu...  [1715, printed later]   \n",
       "\n",
       "                                             Details  \\\n",
       "0  https://www.britishmuseum.org/collection/objec...   \n",
       "2  http://www.loc.gov/pictures/collection/jpd/ite...   \n",
       "\n",
       "                                              Source  \\\n",
       "0  http://www.britishmuseum.org/research/search_t...   \n",
       "2  http://www.loc.gov/pictures/search/?sp=2&co=jp...   \n",
       "\n",
       "                                         Description Similar Prints  \n",
       "0  Print. Sixth of series of twelve (first two mi...             []  \n",
       "2  Print shows a courtesan portraying the Chinese...             []  "
      ]
     },
     "execution_count": 10,
     "metadata": {},
     "output_type": "execute_result"
    }
   ],
   "source": [
    "# get only entries that have a non-null description\n",
    "data_desc = data[data['Description'].notnull()]\n",
    "data_desc.head(2)"
   ]
  },
  {
   "cell_type": "code",
   "execution_count": 17,
   "metadata": {},
   "outputs": [
    {
     "data": {
      "text/plain": [
       "57"
      ]
     },
     "execution_count": 17,
     "metadata": {},
     "output_type": "execute_result"
    }
   ],
   "source": [
    "len(data_desc[data_desc['Description'].str.contains('clock')][['Description']])\n",
    "# at least 25 of these are likely to be the same image, because they're the same description!"
   ]
  },
  {
   "cell_type": "code",
   "execution_count": 18,
   "metadata": {},
   "outputs": [
    {
     "name": "stderr",
     "output_type": "stream",
     "text": [
      "c:\\Users\\marga\\Anaconda3\\envs\\ada\\lib\\site-packages\\past\\builtins\\misc.py:45: DeprecationWarning: the imp module is deprecated in favour of importlib; see the module's documentation for alternative uses\n",
      "  from imp import reload\n"
     ]
    }
   ],
   "source": [
    "#NLP libraries\n",
    "import spacy, nltk, gensim, sklearn\n",
    "import pyLDAvis.gensim_models\n",
    "\n",
    "nlp = spacy.load('en_core_web_sm')"
   ]
  },
  {
   "cell_type": "code",
   "execution_count": 25,
   "metadata": {},
   "outputs": [],
   "source": [
    "descs = data_desc[['Description']]\n",
    "\n",
    "# remove newlines\n",
    "for _, d in descs.iterrows():\n",
    "    d.Description = \" \".join(d.Description.split())\n",
    "\n",
    "descs.head()\n",
    "\n",
    "descs_list = descs['Description'].tolist()"
   ]
  },
  {
   "cell_type": "code",
   "execution_count": 47,
   "metadata": {},
   "outputs": [
    {
     "name": "stdout",
     "output_type": "stream",
     "text": [
      "Sentence 0 Print. \n",
      "\n",
      "Sentence 1 Sixth of series of twelve (first two missing). \n",
      "\n",
      "Sentence 2 Korean embassy procession: \n",
      "\n",
      "['Print', 'Sixth', 'series', 'twelve', 'procession', 'men', 'hats', 'beards', 'horses', 'bows', 'arrows', 'blowing', 'shells', 'trumpets', 'walking', 'Woodblock', 'paper', 'Inscribed']\n"
     ]
    }
   ],
   "source": [
    "import nltk\n",
    "# nltk.download('averaged_perceptron_tagger')\n",
    "\n",
    "test = descs_list[0]\n",
    "# print(\"Test\", test)\n",
    "doctest = nlp(test)\n",
    "\n",
    "# Sentence splitting\n",
    "sentences = [sent for sent in doctest.sents]\n",
    "for i in range(0, 3):\n",
    "    print(f'Sentence {i}', sentences[i], '\\n')\n",
    "\n",
    "# Tokenization\n",
    "tokens = nltk.word_tokenize(test)\n",
    "tags = nltk.pos_tag(tokens)\n",
    "nouns = [word for (word, pos) in tags if pos[0:2] == 'NN']\n",
    "print(nouns)"
   ]
  },
  {
   "cell_type": "code",
   "execution_count": 48,
   "metadata": {},
   "outputs": [
    {
     "name": "stderr",
     "output_type": "stream",
     "text": [
      "C:\\Users\\marga\\AppData\\Local\\Temp\\ipykernel_19072\\2226010252.py:3: SettingWithCopyWarning: \n",
      "A value is trying to be set on a copy of a slice from a DataFrame.\n",
      "Try using .loc[row_indexer,col_indexer] = value instead\n",
      "\n",
      "See the caveats in the documentation: https://pandas.pydata.org/pandas-docs/stable/user_guide/indexing.html#returning-a-view-versus-a-copy\n",
      "  data_desc['Nouns'] = data_desc['Description']\n"
     ]
    },
    {
     "data": {
      "text/html": [
       "<div>\n",
       "<style scoped>\n",
       "    .dataframe tbody tr th:only-of-type {\n",
       "        vertical-align: middle;\n",
       "    }\n",
       "\n",
       "    .dataframe tbody tr th {\n",
       "        vertical-align: top;\n",
       "    }\n",
       "\n",
       "    .dataframe thead th {\n",
       "        text-align: right;\n",
       "    }\n",
       "</style>\n",
       "<table border=\"1\" class=\"dataframe\">\n",
       "  <thead>\n",
       "    <tr style=\"text-align: right;\">\n",
       "      <th></th>\n",
       "      <th>Image URL</th>\n",
       "      <th>Artist</th>\n",
       "      <th>Title</th>\n",
       "      <th>Date</th>\n",
       "      <th>Details</th>\n",
       "      <th>Source</th>\n",
       "      <th>Description</th>\n",
       "      <th>Similar Prints</th>\n",
       "      <th>Nouns</th>\n",
       "    </tr>\n",
       "  </thead>\n",
       "  <tbody>\n",
       "    <tr>\n",
       "      <th>0</th>\n",
       "      <td>https://data.ukiyo-e.org/bm/scaled/AN00418884_...</td>\n",
       "      <td>Okumura Masanobu</td>\n",
       "      <td>NaN</td>\n",
       "      <td>1711</td>\n",
       "      <td>https://www.britishmuseum.org/collection/objec...</td>\n",
       "      <td>http://www.britishmuseum.org/research/search_t...</td>\n",
       "      <td>Print. Sixth of series of twelve (first two mi...</td>\n",
       "      <td>[]</td>\n",
       "      <td>[Print, Sixth, series, twelve, procession, men...</td>\n",
       "    </tr>\n",
       "    <tr>\n",
       "      <th>2</th>\n",
       "      <td>https://data.ukiyo-e.org/loc/scaled/02127v.jpg</td>\n",
       "      <td>Okumura Masanobu</td>\n",
       "      <td>Courtesan likened to the Chinese sage Zhang Gu...</td>\n",
       "      <td>[1715, printed later]</td>\n",
       "      <td>http://www.loc.gov/pictures/collection/jpd/ite...</td>\n",
       "      <td>http://www.loc.gov/pictures/search/?sp=2&amp;co=jp...</td>\n",
       "      <td>Print shows a courtesan portraying the Chinese...</td>\n",
       "      <td>[]</td>\n",
       "      <td>[Print, sage, Zhang, Guo, Lao, Chōkarō, horse,...</td>\n",
       "    </tr>\n",
       "    <tr>\n",
       "      <th>3</th>\n",
       "      <td>https://data.ukiyo-e.org/bm/scaled/AN00420719_...</td>\n",
       "      <td>Okumura Masanobu</td>\n",
       "      <td>NaN</td>\n",
       "      <td>1686-1764 (artist)</td>\n",
       "      <td>https://www.britishmuseum.org/collection/objec...</td>\n",
       "      <td>http://www.britishmuseum.org/research/search_t...</td>\n",
       "      <td>Woodblock print. Kabuki. The actor Sanjo Kanta...</td>\n",
       "      <td>[]</td>\n",
       "      <td>[Woodblock, print, Kabuki, actor, Sanjo, Kanta...</td>\n",
       "    </tr>\n",
       "    <tr>\n",
       "      <th>12</th>\n",
       "      <td>https://data.ukiyo-e.org/bm/scaled/AN00420734_...</td>\n",
       "      <td>Okumura Masanobu</td>\n",
       "      <td>NaN</td>\n",
       "      <td>1686-1764 (artist)</td>\n",
       "      <td>https://www.britishmuseum.org/collection/objec...</td>\n",
       "      <td>http://www.britishmuseum.org/research/search_t...</td>\n",
       "      <td>Woodblock print. Kabuki. Kaomise (debut) of ac...</td>\n",
       "      <td>[]</td>\n",
       "      <td>[Woodblock, print, Kabuki, Kaomise, debut, act...</td>\n",
       "    </tr>\n",
       "    <tr>\n",
       "      <th>16</th>\n",
       "      <td>https://data.ukiyo-e.org/honolulu/scaled/7514.jpg</td>\n",
       "      <td>Okumura Masanobu</td>\n",
       "      <td>Three Young Men: A man playing a hand drum</td>\n",
       "      <td>c. 1751</td>\n",
       "      <td>http://www.honoluluacademy.org/art/10475</td>\n",
       "      <td>http://art.honolulumuseum.org/emuseum/view/obj...</td>\n",
       "      <td>This center panel of a triptych depicts a man ...</td>\n",
       "      <td>[]</td>\n",
       "      <td>[panel, triptych, man, hand, drum, floor, left...</td>\n",
       "    </tr>\n",
       "  </tbody>\n",
       "</table>\n",
       "</div>"
      ],
      "text/plain": [
       "                                            Image URL            Artist  \\\n",
       "0   https://data.ukiyo-e.org/bm/scaled/AN00418884_...  Okumura Masanobu   \n",
       "2      https://data.ukiyo-e.org/loc/scaled/02127v.jpg  Okumura Masanobu   \n",
       "3   https://data.ukiyo-e.org/bm/scaled/AN00420719_...  Okumura Masanobu   \n",
       "12  https://data.ukiyo-e.org/bm/scaled/AN00420734_...  Okumura Masanobu   \n",
       "16  https://data.ukiyo-e.org/honolulu/scaled/7514.jpg  Okumura Masanobu   \n",
       "\n",
       "                                                Title                   Date  \\\n",
       "0                                                 NaN                   1711   \n",
       "2   Courtesan likened to the Chinese sage Zhang Gu...  [1715, printed later]   \n",
       "3                                                 NaN     1686-1764 (artist)   \n",
       "12                                                NaN     1686-1764 (artist)   \n",
       "16         Three Young Men: A man playing a hand drum                c. 1751   \n",
       "\n",
       "                                              Details  \\\n",
       "0   https://www.britishmuseum.org/collection/objec...   \n",
       "2   http://www.loc.gov/pictures/collection/jpd/ite...   \n",
       "3   https://www.britishmuseum.org/collection/objec...   \n",
       "12  https://www.britishmuseum.org/collection/objec...   \n",
       "16           http://www.honoluluacademy.org/art/10475   \n",
       "\n",
       "                                               Source  \\\n",
       "0   http://www.britishmuseum.org/research/search_t...   \n",
       "2   http://www.loc.gov/pictures/search/?sp=2&co=jp...   \n",
       "3   http://www.britishmuseum.org/research/search_t...   \n",
       "12  http://www.britishmuseum.org/research/search_t...   \n",
       "16  http://art.honolulumuseum.org/emuseum/view/obj...   \n",
       "\n",
       "                                          Description Similar Prints  \\\n",
       "0   Print. Sixth of series of twelve (first two mi...             []   \n",
       "2   Print shows a courtesan portraying the Chinese...             []   \n",
       "3   Woodblock print. Kabuki. The actor Sanjo Kanta...             []   \n",
       "12  Woodblock print. Kabuki. Kaomise (debut) of ac...             []   \n",
       "16  This center panel of a triptych depicts a man ...             []   \n",
       "\n",
       "                                                Nouns  \n",
       "0   [Print, Sixth, series, twelve, procession, men...  \n",
       "2   [Print, sage, Zhang, Guo, Lao, Chōkarō, horse,...  \n",
       "3   [Woodblock, print, Kabuki, actor, Sanjo, Kanta...  \n",
       "12  [Woodblock, print, Kabuki, Kaomise, debut, act...  \n",
       "16  [panel, triptych, man, hand, drum, floor, left...  "
      ]
     },
     "execution_count": 48,
     "metadata": {},
     "output_type": "execute_result"
    }
   ],
   "source": [
    "# redoing this for all descs\n",
    "\n",
    "data_desc['Nouns'] = data_desc['Description']\n",
    "\n",
    "for _, d in data_desc.iterrows():\n",
    "    desc = \" \".join(d.Description.split())\n",
    "    tokens = nltk.word_tokenize(desc)\n",
    "    tags = nltk.pos_tag(tokens)\n",
    "    nouns = [word for (word, pos) in tags if pos[0:2] == 'NN']\n",
    "    d.Nouns = nouns\n",
    "\n",
    "data_desc.head()"
   ]
  }
 ],
 "metadata": {
  "kernelspec": {
   "display_name": "base",
   "language": "python",
   "name": "python3"
  },
  "language_info": {
   "codemirror_mode": {
    "name": "ipython",
    "version": 3
   },
   "file_extension": ".py",
   "mimetype": "text/x-python",
   "name": "python",
   "nbconvert_exporter": "python",
   "pygments_lexer": "ipython3",
   "version": "3.9.13"
  },
  "orig_nbformat": 4
 },
 "nbformat": 4,
 "nbformat_minor": 2
}
