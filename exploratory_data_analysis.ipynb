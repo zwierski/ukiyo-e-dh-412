{
 "cells": [
  {
   "cell_type": "code",
   "execution_count": 17,
   "metadata": {},
   "outputs": [],
   "source": [
    "import pandas as pd\n",
    "import numpy as np\n",
    "import matplotlib.pyplot as plt\n",
    "import seaborn as sns\n",
    "from wordcloud import WordCloud, STOPWORDS\n",
    "from collections import Counter\n",
    "import nltk"
   ]
  },
  {
   "cell_type": "code",
   "execution_count": 19,
   "metadata": {},
   "outputs": [
    {
     "name": "stderr",
     "output_type": "stream",
     "text": [
      "[nltk_data] Downloading package averaged_perceptron_tagger to\n",
      "[nltk_data]     C:\\Users\\coco\\AppData\\Roaming\\nltk_data...\n",
      "[nltk_data]   Unzipping taggers\\averaged_perceptron_tagger.zip.\n"
     ]
    },
    {
     "data": {
      "text/plain": [
       "True"
      ]
     },
     "execution_count": 19,
     "metadata": {},
     "output_type": "execute_result"
    }
   ],
   "source": [
    "nltk.download('averaged_perceptron_tagger')"
   ]
  },
  {
   "cell_type": "code",
   "execution_count": 2,
   "metadata": {},
   "outputs": [
    {
     "data": {
      "text/plain": [
       "(177985, 8)"
      ]
     },
     "execution_count": 2,
     "metadata": {},
     "output_type": "execute_result"
    }
   ],
   "source": [
    "data = pd.read_csv('./ukiyo-e_crawler/meta_data/ukiyo-e_artworks_details.csv')\n",
    "data.shape"
   ]
  },
  {
   "cell_type": "code",
   "execution_count": 3,
   "metadata": {},
   "outputs": [
    {
     "data": {
      "text/html": [
       "<div>\n",
       "<style scoped>\n",
       "    .dataframe tbody tr th:only-of-type {\n",
       "        vertical-align: middle;\n",
       "    }\n",
       "\n",
       "    .dataframe tbody tr th {\n",
       "        vertical-align: top;\n",
       "    }\n",
       "\n",
       "    .dataframe thead th {\n",
       "        text-align: right;\n",
       "    }\n",
       "</style>\n",
       "<table border=\"1\" class=\"dataframe\">\n",
       "  <thead>\n",
       "    <tr style=\"text-align: right;\">\n",
       "      <th></th>\n",
       "      <th>Image URL</th>\n",
       "      <th>Artist</th>\n",
       "      <th>Title</th>\n",
       "      <th>Date</th>\n",
       "      <th>Details</th>\n",
       "      <th>Source</th>\n",
       "      <th>Description</th>\n",
       "      <th>Similar Prints</th>\n",
       "    </tr>\n",
       "  </thead>\n",
       "  <tbody>\n",
       "    <tr>\n",
       "      <th>count</th>\n",
       "      <td>177741</td>\n",
       "      <td>177390</td>\n",
       "      <td>168646</td>\n",
       "      <td>151068</td>\n",
       "      <td>166926</td>\n",
       "      <td>177390</td>\n",
       "      <td>82648</td>\n",
       "      <td>177985</td>\n",
       "    </tr>\n",
       "    <tr>\n",
       "      <th>unique</th>\n",
       "      <td>177167</td>\n",
       "      <td>153</td>\n",
       "      <td>108133</td>\n",
       "      <td>6497</td>\n",
       "      <td>164733</td>\n",
       "      <td>27</td>\n",
       "      <td>52762</td>\n",
       "      <td>127638</td>\n",
       "    </tr>\n",
       "    <tr>\n",
       "      <th>top</th>\n",
       "      <td>https://data.ukiyo-e.org/metro/scaled/nashi.jpg</td>\n",
       "      <td>Utagawa Kunisada</td>\n",
       "      <td>−</td>\n",
       "      <td>Japanese, Edo period</td>\n",
       "      <td>http://metro.tokyo.opac.jp/tml/tpic/cgi-bin/de...</td>\n",
       "      <td>http://enpaku.waseda.ac.jp/db/enpakunishik/</td>\n",
       "      <td>役者絵</td>\n",
       "      <td>[]</td>\n",
       "    </tr>\n",
       "    <tr>\n",
       "      <th>freq</th>\n",
       "      <td>98</td>\n",
       "      <td>37862</td>\n",
       "      <td>2341</td>\n",
       "      <td>7624</td>\n",
       "      <td>98</td>\n",
       "      <td>42321</td>\n",
       "      <td>1355</td>\n",
       "      <td>47861</td>\n",
       "    </tr>\n",
       "  </tbody>\n",
       "</table>\n",
       "</div>"
      ],
      "text/plain": [
       "                                              Image URL            Artist  \\\n",
       "count                                            177741            177390   \n",
       "unique                                           177167               153   \n",
       "top     https://data.ukiyo-e.org/metro/scaled/nashi.jpg  Utagawa Kunisada   \n",
       "freq                                                 98             37862   \n",
       "\n",
       "         Title                  Date  \\\n",
       "count   168646                151068   \n",
       "unique  108133                  6497   \n",
       "top          −  Japanese, Edo period   \n",
       "freq      2341                  7624   \n",
       "\n",
       "                                                  Details  \\\n",
       "count                                              166926   \n",
       "unique                                             164733   \n",
       "top     http://metro.tokyo.opac.jp/tml/tpic/cgi-bin/de...   \n",
       "freq                                                   98   \n",
       "\n",
       "                                             Source Description Similar Prints  \n",
       "count                                        177390       82648         177985  \n",
       "unique                                           27       52762         127638  \n",
       "top     http://enpaku.waseda.ac.jp/db/enpakunishik/         役者絵             []  \n",
       "freq                                          42321        1355          47861  "
      ]
     },
     "execution_count": 3,
     "metadata": {},
     "output_type": "execute_result"
    }
   ],
   "source": [
    "data.describe()"
   ]
  },
  {
   "cell_type": "code",
   "execution_count": 4,
   "metadata": {},
   "outputs": [
    {
     "name": "stdout",
     "output_type": "stream",
     "text": [
      "Index(['Image URL', 'Artist', 'Title', 'Date', 'Details', 'Source',\n",
      "       'Description', 'Similar Prints'],\n",
      "      dtype='object')\n"
     ]
    }
   ],
   "source": [
    "print(data.columns)"
   ]
  },
  {
   "cell_type": "code",
   "execution_count": 5,
   "metadata": {},
   "outputs": [
    {
     "data": {
      "text/plain": [
       "82648"
      ]
     },
     "execution_count": 5,
     "metadata": {},
     "output_type": "execute_result"
    }
   ],
   "source": [
    "# get the number of non-null values in description column\n",
    "data['Description'].notnull().sum()"
   ]
  },
  {
   "cell_type": "code",
   "execution_count": 6,
   "metadata": {},
   "outputs": [
    {
     "data": {
      "text/plain": [
       "count    177985.000000\n",
       "mean         70.501739\n",
       "std         181.497129\n",
       "min           1.000000\n",
       "25%           3.000000\n",
       "50%           3.000000\n",
       "75%          57.000000\n",
       "max        6321.000000\n",
       "Name: Description_length, dtype: float64"
      ]
     },
     "execution_count": 6,
     "metadata": {},
     "output_type": "execute_result"
    }
   ],
   "source": [
    "# get the length of the description\n",
    "data['Description_length'] = data['Description'].apply(lambda x: len(str(x)))\n",
    "data['Description_length'].describe()"
   ]
  },
  {
   "cell_type": "code",
   "execution_count": 7,
   "metadata": {},
   "outputs": [
    {
     "data": {
      "text/plain": [
       "46867"
      ]
     },
     "execution_count": 7,
     "metadata": {},
     "output_type": "execute_result"
    }
   ],
   "source": [
    "# get how many descriotions are lager than 50 characters\n",
    "len(data[data['Description_length'] > 50])"
   ]
  },
  {
   "cell_type": "code",
   "execution_count": 8,
   "metadata": {},
   "outputs": [
    {
     "data": {
      "image/png": "[encoded data removed]",
      "text/plain": [
       "<Figure size 432x288 with 1 Axes>"
      ]
     },
     "metadata": {
      "needs_background": "light"
     },
     "output_type": "display_data"
    }
   ],
   "source": [
    "# create a histogram of description length in log scale\n",
    "plt.hist(data['Description_length'], bins=50, log=True)\n",
    "\n",
    "# set plot title and labels\n",
    "plt.title('Distribution of Description Length (Log Scale)')\n",
    "plt.xlabel('Description Length')\n",
    "plt.ylabel('Frequency (Log Scale)')\n",
    "\n",
    "# display the plot\n",
    "plt.show()"
   ]
  },
  {
   "cell_type": "code",
   "execution_count": 13,
   "metadata": {},
   "outputs": [
    {
     "data": {
      "text/plain": [
       "99244"
      ]
     },
     "execution_count": 13,
     "metadata": {},
     "output_type": "execute_result"
    }
   ],
   "source": [
    "# count the unique words in description\n",
    "\n",
    "all_strings = ' '.join(data['Description'].dropna().values)\n",
    "# remove the non-english characters\n",
    "all_strings = all_strings.encode('ascii', 'ignore').decode('ascii')\n",
    "\n",
    "words = all_strings.split()\n",
    "word_counts = Counter(words)\n",
    "\n",
    "\n",
    "len(word_counts)"
   ]
  },
  {
   "cell_type": "code",
   "execution_count": 14,
   "metadata": {},
   "outputs": [
    {
     "data": {
      "text/plain": [
       "[('the', 80190),\n",
       " ('of', 60189),\n",
       " ('in', 39528),\n",
       " ('and', 39071),\n",
       " ('a', 37565),\n",
       " ('is', 20860),\n",
       " ('on', 16381),\n",
       " ('by', 15739),\n",
       " ('with', 15245),\n",
       " ('The', 15240),\n",
       " ('to', 14937),\n",
       " ('from', 12965),\n",
       " ('x', 12864),\n",
       " ('at', 11247),\n",
       " ('print', 10792),\n",
       " ('for', 8935),\n",
       " ('Woodblock', 8283),\n",
       " ('as', 7853),\n",
       " ('no', 7322),\n",
       " ('A', 7242)]"
      ]
     },
     "execution_count": 14,
     "metadata": {},
     "output_type": "execute_result"
    }
   ],
   "source": [
    "# get the top 20 words\n",
    "top_20_words = word_counts.most_common(20)\n",
    "top_20_words"
   ]
  },
  {
   "cell_type": "code",
   "execution_count": 20,
   "metadata": {},
   "outputs": [
    {
     "name": "stdout",
     "output_type": "stream",
     "text": [
      "78161\n"
     ]
    }
   ],
   "source": [
    "# initialize the part-of-speech tagger\n",
    "tagger = nltk.pos_tag\n",
    "\n",
    "# extract the nouns from the counter\n",
    "noun_dict = {}\n",
    "for word, count in word_counts.items():\n",
    "    pos = tagger([word])[0][1]\n",
    "    if pos.startswith('N'):  # check if the part-of-speech tag indicates a noun\n",
    "        noun_dict[word] = count\n",
    "\n",
    "print(len(noun_dict))"
   ]
  },
  {
   "cell_type": "code",
   "execution_count": 21,
   "metadata": {},
   "outputs": [
    {
     "data": {
      "text/plain": [
       "[('x', 12864),\n",
       " ('print', 10792),\n",
       " ('Woodblock', 8283),\n",
       " ('series', 6962),\n",
       " ('woodblock', 6901),\n",
       " ('cm', 6791),\n",
       " ('print.', 4842),\n",
       " ('seal', 4734),\n",
       " ('inches', 4179),\n",
       " ('Color', 3834),\n",
       " ('prints', 3601),\n",
       " ('=', 3263),\n",
       " ('print,', 3196),\n",
       " ('Print', 3002),\n",
       " ('left', 2990),\n",
       " ('oban', 2913),\n",
       " ('right', 2674),\n",
       " ('Artist:', 2578),\n",
       " ('Fine', 2531),\n",
       " ('Title', 2502)]"
      ]
     },
     "execution_count": 21,
     "metadata": {},
     "output_type": "execute_result"
    }
   ],
   "source": [
    "# get the top 20 nouns\n",
    "top_20_nouns = sorted(noun_dict.items(), key=lambda x: x[1], reverse=True)[:20]\n",
    "top_20_nouns"
   ]
  },
  {
   "cell_type": "code",
   "execution_count": null,
   "metadata": {},
   "outputs": [],
   "source": []
  }
 ],
 "metadata": {
  "kernelspec": {
   "display_name": "base",
   "language": "python",
   "name": "python3"
  },
  "language_info": {
   "codemirror_mode": {
    "name": "ipython",
    "version": 3
   },
   "file_extension": ".py",
   "mimetype": "text/x-python",
   "name": "python",
   "nbconvert_exporter": "python",
   "pygments_lexer": "ipython3",
   "version": "3.8.5"
  },
  "orig_nbformat": 4
 },
 "nbformat": 4,
 "nbformat_minor": 2
}
