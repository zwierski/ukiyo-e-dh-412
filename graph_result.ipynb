{
 "cells": [
  {
   "cell_type": "code",
   "execution_count": 1,
   "metadata": {},
   "outputs": [],
   "source": [
    "import pandas as pd\n",
    "import matplotlib.pyplot as plt\n",
    "%matplotlib inline\n",
    "import ast\n",
    "import math\n",
    "import numpy as np\n",
    "from collections import defaultdict\n",
    "import re"
   ]
  },
  {
   "cell_type": "code",
   "execution_count": 2,
   "metadata": {},
   "outputs": [
    {
     "data": {
      "text/html": [
       "<div>\n",
       "<style scoped>\n",
       "    .dataframe tbody tr th:only-of-type {\n",
       "        vertical-align: middle;\n",
       "    }\n",
       "\n",
       "    .dataframe tbody tr th {\n",
       "        vertical-align: top;\n",
       "    }\n",
       "\n",
       "    .dataframe thead th {\n",
       "        text-align: right;\n",
       "    }\n",
       "</style>\n",
       "<table border=\"1\" class=\"dataframe\">\n",
       "  <thead>\n",
       "    <tr style=\"text-align: right;\">\n",
       "      <th></th>\n",
       "      <th>id</th>\n",
       "      <th>Image URL</th>\n",
       "      <th>text</th>\n",
       "      <th>top_probs</th>\n",
       "      <th>top_labels</th>\n",
       "      <th>Year</th>\n",
       "      <th>Emperor</th>\n",
       "      <th>Shogun</th>\n",
       "      <th>Samurai</th>\n",
       "      <th>Minister</th>\n",
       "      <th>...</th>\n",
       "      <th>Merchant</th>\n",
       "      <th>Craftsman</th>\n",
       "      <th>Kabuki</th>\n",
       "      <th>Mountain</th>\n",
       "      <th>Sea</th>\n",
       "      <th>Lake</th>\n",
       "      <th>Plant</th>\n",
       "      <th>Animal</th>\n",
       "      <th>Man</th>\n",
       "      <th>Woman</th>\n",
       "    </tr>\n",
       "  </thead>\n",
       "  <tbody>\n",
       "    <tr>\n",
       "      <th>0</th>\n",
       "      <td>AN00418884_001_l.jpg</td>\n",
       "      <td>https://data.ukiyo-e.org/bm/scaled/AN00418884_...</td>\n",
       "      <td>sixth miss embassy procession man hat beard ho...</td>\n",
       "      <td>[0.0250396728515625, 0.0242767333984375, 0.024...</td>\n",
       "      <td>['Plant', 'Samurai', 'Soldier', 'Army', 'Worke...</td>\n",
       "      <td>1711</td>\n",
       "      <td>0.0</td>\n",
       "      <td>0.0</td>\n",
       "      <td>0.024277</td>\n",
       "      <td>0.0</td>\n",
       "      <td>...</td>\n",
       "      <td>0.0</td>\n",
       "      <td>0.019806</td>\n",
       "      <td>0.0</td>\n",
       "      <td>0.0</td>\n",
       "      <td>0.0</td>\n",
       "      <td>0.0</td>\n",
       "      <td>0.02504</td>\n",
       "      <td>0.0</td>\n",
       "      <td>0.0</td>\n",
       "      <td>0.020767</td>\n",
       "    </tr>\n",
       "  </tbody>\n",
       "</table>\n",
       "<p>1 rows × 59 columns</p>\n",
       "</div>"
      ],
      "text/plain": [
       "                     id                                          Image URL  \\\n",
       "0  AN00418884_001_l.jpg  https://data.ukiyo-e.org/bm/scaled/AN00418884_...   \n",
       "\n",
       "                                                text  \\\n",
       "0  sixth miss embassy procession man hat beard ho...   \n",
       "\n",
       "                                           top_probs  \\\n",
       "0  [0.0250396728515625, 0.0242767333984375, 0.024...   \n",
       "\n",
       "                                          top_labels  Year  Emperor  Shogun  \\\n",
       "0  ['Plant', 'Samurai', 'Soldier', 'Army', 'Worke...  1711      0.0     0.0   \n",
       "\n",
       "    Samurai  Minister  ...  Merchant  Craftsman  Kabuki  Mountain  Sea  Lake  \\\n",
       "0  0.024277       0.0  ...       0.0   0.019806     0.0       0.0  0.0   0.0   \n",
       "\n",
       "     Plant  Animal  Man     Woman  \n",
       "0  0.02504     0.0  0.0  0.020767  \n",
       "\n",
       "[1 rows x 59 columns]"
      ]
     },
     "execution_count": 2,
     "metadata": {},
     "output_type": "execute_result"
    }
   ],
   "source": [
    "data = pd.read_csv('./results_and_time.csv')\n",
    "data.head(1)"
   ]
  },
  {
   "cell_type": "code",
   "execution_count": null,
   "metadata": {},
   "outputs": [],
   "source": [
    "# t = 0.1\n",
    "\n"
   ]
  }
 ],
 "metadata": {
  "kernelspec": {
   "display_name": "ada",
   "language": "python",
   "name": "python3"
  },
  "language_info": {
   "codemirror_mode": {
    "name": "ipython",
    "version": 3
   },
   "file_extension": ".py",
   "mimetype": "text/x-python",
   "name": "python",
   "nbconvert_exporter": "python",
   "pygments_lexer": "ipython3",
   "version": "3.9.13"
  },
  "orig_nbformat": 4
 },
 "nbformat": 4,
 "nbformat_minor": 2
}
