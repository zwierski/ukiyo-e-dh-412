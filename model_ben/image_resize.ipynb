{
 "cells": [
  {
   "cell_type": "code",
   "execution_count": 13,
   "metadata": {},
   "outputs": [],
   "source": [
    "from PIL import Image, ImageOps\n",
    "\n",
    "def resized_image(input_image):\n",
    "    # Get the original width and height of the image\n",
    "    width, height = input_image.size\n",
    "    print(\"Original image size: \", width, height)\n",
    "\n",
    "    # Calculate the aspect ratio of the image\n",
    "    aspect_ratio = width / height\n",
    "\n",
    "    # Set the desired output size\n",
    "    output_size = (1000, int(1000 / aspect_ratio))\n",
    "\n",
    "    # Resize the image while maintaining aspect ratio\n",
    "    resized_image = input_image.resize(output_size)\n",
    "\n",
    "    # Pad the resized image to create a square image\n",
    "    padded_image = ImageOps.pad(resized_image, (1000, 600))\n",
    "\n",
    "    return padded_image"
   ]
  },
  {
   "cell_type": "code",
   "execution_count": 14,
   "metadata": {},
   "outputs": [
    {
     "name": "stdout",
     "output_type": "stream",
     "text": [
      "Original image size:  750 524\n",
      "Resized image size:  1000 600\n"
     ]
    }
   ],
   "source": [
    "# Open the input image\n",
    "input_image = Image.open(\"./test_data/resize_test.jpg\")\n",
    "output_image = resized_image(input_image)\n",
    "width, height = output_image.size\n",
    "print(\"Resized image size: \", width, height)"
   ]
  },
  {
   "cell_type": "code",
   "execution_count": null,
   "metadata": {},
   "outputs": [],
   "source": []
  }
 ],
 "metadata": {
  "kernelspec": {
   "display_name": "base",
   "language": "python",
   "name": "python3"
  },
  "language_info": {
   "codemirror_mode": {
    "name": "ipython",
    "version": 3
   },
   "file_extension": ".py",
   "mimetype": "text/x-python",
   "name": "python",
   "nbconvert_exporter": "python",
   "pygments_lexer": "ipython3",
   "version": "3.8.5"
  },
  "orig_nbformat": 4
 },
 "nbformat": 4,
 "nbformat_minor": 2
}
