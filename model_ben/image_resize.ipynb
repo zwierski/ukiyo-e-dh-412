{
 "cells": [
  {
   "cell_type": "code",
   "execution_count": 2,
   "metadata": {},
   "outputs": [],
   "source": [
    "from PIL import Image, ImageOps\n",
    "\n",
    "def resized_image(input_image):\n",
    "    # Get the original width and height of the image\n",
    "    width, height = input_image.size\n",
    "    print(\"Original image size: \", width, height)\n",
    "\n",
    "    # Calculate the aspect ratio of the image\n",
    "    aspect_ratio = width / height\n",
    "\n",
    "    # Set the desired output size\n",
    "    output_size = (1000, int(1000 / aspect_ratio))\n",
    "\n",
    "    # Resize the image while maintaining aspect ratio\n",
    "    resized_image = input_image.resize(output_size)\n",
    "\n",
    "    # Pad the resized image to create a square image\n",
    "    padded_image = ImageOps.pad(resized_image, (1000, 600))\n",
    "\n",
    "    return padded_image"
   ]
  },
  {
   "cell_type": "code",
   "execution_count": 3,
   "metadata": {},
   "outputs": [
    {
     "name": "stdout",
     "output_type": "stream",
     "text": [
      "Original image size:  750 524\n",
      "Resized image size:  1000 600\n"
     ]
    }
   ],
   "source": [
    "# Open the input image\n",
    "input_image = Image.open(\"./test_data/resize_test.jpg\")\n",
    "output_image = resized_image(input_image)\n",
    "width, height = output_image.size\n",
    "print(\"Resized image size: \", width, height)"
   ]
  },
  {
   "cell_type": "code",
   "execution_count": 4,
   "metadata": {},
   "outputs": [],
   "source": [
    "output_image.save('../ukiyo-e_crawler/resized/test.jpg')"
   ]
  },
  {
   "cell_type": "code",
   "execution_count": null,
   "metadata": {},
   "outputs": [],
   "source": [
    "\n",
    "def resize(url):\n",
    "    try:\n",
    "        path = '../ukiyo-e_crawler/images/' + url.split('/')[-1][0:-4] + '.jpg'\n",
    "        if os.path.exists(path):\n",
    "            r_image = resized_image(path)\n",
    "            with open('../ukiyo-e_crawler/resized/', 'wb') as f:\n",
    "                f.write(r_image)\n",
    "        else:\n",
    "            return(url, False) \n",
    "    except:\n",
    "        print('error: ', url)\n",
    "\n",
    "with ThreadPoolExecutor(max_workers=10) as executor:\n",
    "    for result in executor.map(resizing, urls):\n",
    "        results.append(result)"
   ]
  }
 ],
 "metadata": {
  "kernelspec": {
   "display_name": "base",
   "language": "python",
   "name": "python3"
  },
  "language_info": {
   "codemirror_mode": {
    "name": "ipython",
    "version": 3
   },
   "file_extension": ".py",
   "mimetype": "text/x-python",
   "name": "python",
   "nbconvert_exporter": "python",
   "pygments_lexer": "ipython3",
   "version": "3.8.16"
  },
  "orig_nbformat": 4
 },
 "nbformat": 4,
 "nbformat_minor": 2
}
