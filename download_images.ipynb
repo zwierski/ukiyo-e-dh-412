{
 "cells": [
  {
   "cell_type": "code",
   "execution_count": 1,
   "metadata": {},
   "outputs": [],
   "source": [
    "import os\n",
    "import requests\n",
    "import pandas as pd\n",
    "import numpy as np\n",
    "from concurrent.futures import ThreadPoolExecutor"
   ]
  },
  {
   "cell_type": "code",
   "execution_count": 2,
   "metadata": {},
   "outputs": [
    {
     "data": {
      "text/html": [
       "<div>\n",
       "<style scoped>\n",
       "    .dataframe tbody tr th:only-of-type {\n",
       "        vertical-align: middle;\n",
       "    }\n",
       "\n",
       "    .dataframe tbody tr th {\n",
       "        vertical-align: top;\n",
       "    }\n",
       "\n",
       "    .dataframe thead th {\n",
       "        text-align: right;\n",
       "    }\n",
       "</style>\n",
       "<table border=\"1\" class=\"dataframe\">\n",
       "  <thead>\n",
       "    <tr style=\"text-align: right;\">\n",
       "      <th></th>\n",
       "      <th>Image URL</th>\n",
       "      <th>Artist</th>\n",
       "      <th>Title</th>\n",
       "      <th>Date</th>\n",
       "      <th>Details</th>\n",
       "      <th>Source</th>\n",
       "      <th>Description</th>\n",
       "      <th>Similar Prints</th>\n",
       "    </tr>\n",
       "  </thead>\n",
       "  <tbody>\n",
       "    <tr>\n",
       "      <th>0</th>\n",
       "      <td>https://data.ukiyo-e.org/bm/scaled/AN00418884_...</td>\n",
       "      <td>Okumura Masanobu</td>\n",
       "      <td>NaN</td>\n",
       "      <td>1711</td>\n",
       "      <td>https://www.britishmuseum.org/collection/objec...</td>\n",
       "      <td>http://www.britishmuseum.org/research/search_t...</td>\n",
       "      <td>Print. Sixth of series of twelve (first two mi...</td>\n",
       "      <td>[]</td>\n",
       "    </tr>\n",
       "    <tr>\n",
       "      <th>1</th>\n",
       "      <td>https://data.ukiyo-e.org/mfa/scaled/sc220382.jpg</td>\n",
       "      <td>Okumura Masanobu</td>\n",
       "      <td>Actor Sanogawa Ichimatsu as a Falconer</td>\n",
       "      <td>1740</td>\n",
       "      <td>https://collections.mfa.org/objects/224230</td>\n",
       "      <td>http://www.mfa.org/search/collections</td>\n",
       "      <td>NaN</td>\n",
       "      <td>['https://ukiyo-e.org/image/bm/AN00611916_001_l']</td>\n",
       "    </tr>\n",
       "    <tr>\n",
       "      <th>2</th>\n",
       "      <td>https://data.ukiyo-e.org/loc/scaled/02127v.jpg</td>\n",
       "      <td>Okumura Masanobu</td>\n",
       "      <td>Courtesan likened to the Chinese sage Zhang Gu...</td>\n",
       "      <td>[1715, printed later]</td>\n",
       "      <td>http://www.loc.gov/pictures/collection/jpd/ite...</td>\n",
       "      <td>http://www.loc.gov/pictures/search/?sp=2&amp;co=jp...</td>\n",
       "      <td>Print shows a courtesan portraying the Chinese...</td>\n",
       "      <td>[]</td>\n",
       "    </tr>\n",
       "    <tr>\n",
       "      <th>3</th>\n",
       "      <td>https://data.ukiyo-e.org/bm/scaled/AN00420719_...</td>\n",
       "      <td>Okumura Masanobu</td>\n",
       "      <td>NaN</td>\n",
       "      <td>1686-1764 (artist)</td>\n",
       "      <td>https://www.britishmuseum.org/collection/objec...</td>\n",
       "      <td>http://www.britishmuseum.org/research/search_t...</td>\n",
       "      <td>Woodblock print. Kabuki. The actor Sanjo Kanta...</td>\n",
       "      <td>[]</td>\n",
       "    </tr>\n",
       "    <tr>\n",
       "      <th>4</th>\n",
       "      <td>https://data.ukiyo-e.org/mfa/scaled/sc200151.jpg</td>\n",
       "      <td>Okumura Masanobu</td>\n",
       "      <td>Tsuri ---Ki no sendaku, from an untitled serie...</td>\n",
       "      <td>Japanese, Edo period</td>\n",
       "      <td>https://collections.mfa.org/objects/256153</td>\n",
       "      <td>http://www.mfa.org/search/collections</td>\n",
       "      <td>NaN</td>\n",
       "      <td>[]</td>\n",
       "    </tr>\n",
       "  </tbody>\n",
       "</table>\n",
       "</div>"
      ],
      "text/plain": [
       "                                           Image URL            Artist   \n",
       "0  https://data.ukiyo-e.org/bm/scaled/AN00418884_...  Okumura Masanobu  \\\n",
       "1   https://data.ukiyo-e.org/mfa/scaled/sc220382.jpg  Okumura Masanobu   \n",
       "2     https://data.ukiyo-e.org/loc/scaled/02127v.jpg  Okumura Masanobu   \n",
       "3  https://data.ukiyo-e.org/bm/scaled/AN00420719_...  Okumura Masanobu   \n",
       "4   https://data.ukiyo-e.org/mfa/scaled/sc200151.jpg  Okumura Masanobu   \n",
       "\n",
       "                                               Title                   Date   \n",
       "0                                                NaN                   1711  \\\n",
       "1             Actor Sanogawa Ichimatsu as a Falconer                   1740   \n",
       "2  Courtesan likened to the Chinese sage Zhang Gu...  [1715, printed later]   \n",
       "3                                                NaN     1686-1764 (artist)   \n",
       "4  Tsuri ---Ki no sendaku, from an untitled serie...   Japanese, Edo period   \n",
       "\n",
       "                                             Details   \n",
       "0  https://www.britishmuseum.org/collection/objec...  \\\n",
       "1         https://collections.mfa.org/objects/224230   \n",
       "2  http://www.loc.gov/pictures/collection/jpd/ite...   \n",
       "3  https://www.britishmuseum.org/collection/objec...   \n",
       "4         https://collections.mfa.org/objects/256153   \n",
       "\n",
       "                                              Source   \n",
       "0  http://www.britishmuseum.org/research/search_t...  \\\n",
       "1              http://www.mfa.org/search/collections   \n",
       "2  http://www.loc.gov/pictures/search/?sp=2&co=jp...   \n",
       "3  http://www.britishmuseum.org/research/search_t...   \n",
       "4              http://www.mfa.org/search/collections   \n",
       "\n",
       "                                         Description   \n",
       "0  Print. Sixth of series of twelve (first two mi...  \\\n",
       "1                                                NaN   \n",
       "2  Print shows a courtesan portraying the Chinese...   \n",
       "3  Woodblock print. Kabuki. The actor Sanjo Kanta...   \n",
       "4                                                NaN   \n",
       "\n",
       "                                      Similar Prints  \n",
       "0                                                 []  \n",
       "1  ['https://ukiyo-e.org/image/bm/AN00611916_001_l']  \n",
       "2                                                 []  \n",
       "3                                                 []  \n",
       "4                                                 []  "
      ]
     },
     "execution_count": 2,
     "metadata": {},
     "output_type": "execute_result"
    }
   ],
   "source": [
    "data = pd.read_csv('./ukiyo-e_crawler/meta_data/ukiyo-e_artworks_details.csv')\n",
    "data.head()"
   ]
  },
  {
   "cell_type": "code",
   "execution_count": 3,
   "metadata": {},
   "outputs": [],
   "source": [
    "data = data.dropna(subset=['Image URL'])"
   ]
  },
  {
   "cell_type": "code",
   "execution_count": 4,
   "metadata": {},
   "outputs": [],
   "source": [
    "data['Image URL'] = data['Image URL'].apply(lambda x: x.replace('scaled', 'images'))"
   ]
  },
  {
   "cell_type": "code",
   "execution_count": 13,
   "metadata": {},
   "outputs": [],
   "source": [
    "def download_image(url):\n",
    "    try:\n",
    "        path = './ukiyo-e_crawler/images/' + url.split('/')[-1][0:-4] + '.jpg'\n",
    "        response = requests.get(url)\n",
    "        with open(path, 'wb') as f:\n",
    "            f.write(response.content)\n",
    "    except:\n",
    "        print('error: ', url)\n",
    "\n",
    "urls = remaining\n",
    "\n",
    "with ThreadPoolExecutor(max_workers=7) as executor:\n",
    "    executor.map(download_image, urls)"
   ]
  },
  {
   "cell_type": "code",
   "execution_count": 8,
   "metadata": {},
   "outputs": [],
   "source": [
    "\n",
    "def check_download(url):\n",
    "    try:\n",
    "        path = './ukiyo-e_crawler/images/' + url.split('/')[-1][0:-4] + '.jpg'\n",
    "        if os.path.exists(path):\n",
    "            return(url, True) \n",
    "        else:\n",
    "            return(url, False) \n",
    "    except:\n",
    "        print('error: ', url)\n",
    "\n",
    "urls = data['Image URL']\n",
    "results = []\n",
    "\n",
    "with ThreadPoolExecutor(max_workers=10) as executor:\n",
    "    for result in executor.map(check_download, urls):\n",
    "        results.append(result)\n",
    "\n",
    "check = pd.DataFrame(results, columns=['url','downloaded'])\n"
   ]
  },
  {
   "cell_type": "code",
   "execution_count": 9,
   "metadata": {},
   "outputs": [
    {
     "data": {
      "text/html": [
       "<div>\n",
       "<style scoped>\n",
       "    .dataframe tbody tr th:only-of-type {\n",
       "        vertical-align: middle;\n",
       "    }\n",
       "\n",
       "    .dataframe tbody tr th {\n",
       "        vertical-align: top;\n",
       "    }\n",
       "\n",
       "    .dataframe thead th {\n",
       "        text-align: right;\n",
       "    }\n",
       "</style>\n",
       "<table border=\"1\" class=\"dataframe\">\n",
       "  <thead>\n",
       "    <tr style=\"text-align: right;\">\n",
       "      <th></th>\n",
       "      <th>url</th>\n",
       "      <th>downloaded</th>\n",
       "    </tr>\n",
       "  </thead>\n",
       "  <tbody>\n",
       "    <tr>\n",
       "      <th>0</th>\n",
       "      <td>https://data.ukiyo-e.org/bm/images/AN00418884_...</td>\n",
       "      <td>True</td>\n",
       "    </tr>\n",
       "    <tr>\n",
       "      <th>1</th>\n",
       "      <td>https://data.ukiyo-e.org/mfa/images/sc220382.jpg</td>\n",
       "      <td>True</td>\n",
       "    </tr>\n",
       "    <tr>\n",
       "      <th>2</th>\n",
       "      <td>https://data.ukiyo-e.org/loc/images/02127v.jpg</td>\n",
       "      <td>True</td>\n",
       "    </tr>\n",
       "    <tr>\n",
       "      <th>3</th>\n",
       "      <td>https://data.ukiyo-e.org/bm/images/AN00420719_...</td>\n",
       "      <td>True</td>\n",
       "    </tr>\n",
       "    <tr>\n",
       "      <th>4</th>\n",
       "      <td>https://data.ukiyo-e.org/mfa/images/sc200151.jpg</td>\n",
       "      <td>True</td>\n",
       "    </tr>\n",
       "  </tbody>\n",
       "</table>\n",
       "</div>"
      ],
      "text/plain": [
       "                                                 url  downloaded\n",
       "0  https://data.ukiyo-e.org/bm/images/AN00418884_...        True\n",
       "1   https://data.ukiyo-e.org/mfa/images/sc220382.jpg        True\n",
       "2     https://data.ukiyo-e.org/loc/images/02127v.jpg        True\n",
       "3  https://data.ukiyo-e.org/bm/images/AN00420719_...        True\n",
       "4   https://data.ukiyo-e.org/mfa/images/sc200151.jpg        True"
      ]
     },
     "execution_count": 9,
     "metadata": {},
     "output_type": "execute_result"
    }
   ],
   "source": [
    "check.head()"
   ]
  },
  {
   "cell_type": "code",
   "execution_count": 12,
   "metadata": {},
   "outputs": [
    {
     "data": {
      "text/plain": [
       "41     https://data.ukiyo-e.org/artofjapan/images/ccf...\n",
       "207    https://data.ukiyo-e.org/artofjapan/images/ccf...\n",
       "275    https://data.ukiyo-e.org/artofjapan/images/8e1...\n",
       "364    https://data.ukiyo-e.org/artofjapan/images/d58...\n",
       "441    https://data.ukiyo-e.org/artofjapan/images/50a...\n",
       "Name: url, dtype: object"
      ]
     },
     "execution_count": 12,
     "metadata": {},
     "output_type": "execute_result"
    }
   ],
   "source": [
    "remaining = check['url'][~check['downloaded']]\n",
    "remaining.head()"
   ]
  }
 ],
 "metadata": {
  "kernelspec": {
   "display_name": "base",
   "language": "python",
   "name": "python3"
  },
  "language_info": {
   "codemirror_mode": {
    "name": "ipython",
    "version": 3
   },
   "file_extension": ".py",
   "mimetype": "text/x-python",
   "name": "python",
   "nbconvert_exporter": "python",
   "pygments_lexer": "ipython3",
   "version": "3.8.16"
  },
  "orig_nbformat": 4
 },
 "nbformat": 4,
 "nbformat_minor": 2
}
