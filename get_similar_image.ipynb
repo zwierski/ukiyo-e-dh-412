{
 "cells": [
  {
   "cell_type": "code",
   "execution_count": 1,
   "metadata": {},
   "outputs": [],
   "source": [
    "from PIL import Image\n",
    "import imagehash"
   ]
  },
  {
   "cell_type": "code",
   "execution_count": 5,
   "metadata": {},
   "outputs": [],
   "source": [
    "image1 = Image.open(\"./images/images/sim_1.jpg\")\n",
    "image2 = Image.open(\"./images/images/sim_2.jpg\")\n",
    "image3 = Image.open(\"./images/images/sim_3.jpg\")\n",
    "image4 = Image.open(\"./images/images/not_so_similar.jpg\")\n",
    "\n",
    "hash1 = imagehash.average_hash(image1)\n",
    "hash2 = imagehash.average_hash(image2)\n",
    "hash3 = imagehash.average_hash(image3)\n",
    "hash4 = imagehash.average_hash(image4)"
   ]
  },
  {
   "cell_type": "code",
   "execution_count": 6,
   "metadata": {},
   "outputs": [
    {
     "name": "stdout",
     "output_type": "stream",
     "text": [
      "e1fdfdf7605001ef\n",
      "e1b9b9f7307080ff\n",
      "ff83a3e28282f4fc\n",
      "fe169ebe8e86b0fc\n"
     ]
    }
   ],
   "source": [
    "print(hash1)\n",
    "print(hash2)\n",
    "print(hash3)\n",
    "print(hash4)"
   ]
  },
  {
   "cell_type": "code",
   "execution_count": 9,
   "metadata": {},
   "outputs": [
    {
     "name": "stdout",
     "output_type": "stream",
     "text": [
      "10\n",
      "35\n",
      "29\n",
      "36\n",
      "34\n",
      "19\n"
     ]
    }
   ],
   "source": [
    "similarity1 = hash1 - hash2  # 计算哈希值之间的差异\n",
    "similarity2 = hash1 - hash3\n",
    "similarity3 = hash2 - hash3\n",
    "similarity4 = hash1 - hash4\n",
    "similarity5 = hash2 - hash4\n",
    "similarity6 = hash3 - hash4\n",
    "print(similarity1)\n",
    "print(similarity2)\n",
    "print(similarity3)\n",
    "print(similarity4)\n",
    "print(similarity5)\n",
    "print(similarity6)"
   ]
  },
  {
   "cell_type": "code",
   "execution_count": null,
   "metadata": {},
   "outputs": [],
   "source": []
  }
 ],
 "metadata": {
  "kernelspec": {
   "display_name": "cv",
   "language": "python",
   "name": "python3"
  },
  "language_info": {
   "codemirror_mode": {
    "name": "ipython",
    "version": 3
   },
   "file_extension": ".py",
   "mimetype": "text/x-python",
   "name": "python",
   "nbconvert_exporter": "python",
   "pygments_lexer": "ipython3",
   "version": "3.8.16"
  },
  "orig_nbformat": 4
 },
 "nbformat": 4,
 "nbformat_minor": 2
}
